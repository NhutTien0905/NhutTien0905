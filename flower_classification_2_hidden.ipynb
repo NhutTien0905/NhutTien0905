{
  "nbformat": 4,
  "nbformat_minor": 0,
  "metadata": {
    "colab": {
      "name": "flower_classification_2_hidden.ipynb",
      "provenance": [],
      "mount_file_id": "1LNmgvNXCCwitXfgDfOAXnjP3r83dzf-g",
      "authorship_tag": "ABX9TyNWScgD5IFGCTF5Khvo7rWl",
      "include_colab_link": true
    },
    "kernelspec": {
      "name": "python3",
      "display_name": "Python 3"
    },
    "language_info": {
      "name": "python"
    }
  },
  "cells": [
    {
      "cell_type": "markdown",
      "metadata": {
        "id": "view-in-github",
        "colab_type": "text"
      },
      "source": [
        "<a href=\"https://colab.research.google.com/github/NhutTien0905/NhutTien0905/blob/main/flower_classification_2_hidden.ipynb\" target=\"_parent\"><img src=\"https://colab.research.google.com/assets/colab-badge.svg\" alt=\"Open In Colab\"/></a>"
      ]
    },
    {
      "cell_type": "code",
      "execution_count": 1,
      "metadata": {
        "id": "aIh0CONH0zkb"
      },
      "outputs": [],
      "source": [
        "import numpy as np\n",
        "import pandas as pd\n",
        "import random"
      ]
    },
    {
      "cell_type": "code",
      "source": [
        "data = pd.read_csv(\"/content/drive/MyDrive/Colab Notebooks/file/iris.csv\")\n",
        "data.head()"
      ],
      "metadata": {
        "colab": {
          "base_uri": "https://localhost:8080/",
          "height": 206
        },
        "id": "FVu8xyMB1Ds_",
        "outputId": "eeb8a73c-af22-468c-a9c0-79e57119a122"
      },
      "execution_count": 2,
      "outputs": [
        {
          "output_type": "execute_result",
          "data": {
            "text/plain": [
              "   senpal lenght  senpal width  pental length  pental width         type\n",
              "0            5.1           3.5            1.4           0.2  Iris-setosa\n",
              "1            4.9           3.0            1.4           0.2  Iris-setosa\n",
              "2            4.7           3.2            1.3           0.2  Iris-setosa\n",
              "3            4.6           3.1            1.5           0.2  Iris-setosa\n",
              "4            5.0           3.6            1.4           0.2  Iris-setosa"
            ],
            "text/html": [
              "\n",
              "  <div id=\"df-c8775782-f9ce-4c48-93ad-94917804637a\">\n",
              "    <div class=\"colab-df-container\">\n",
              "      <div>\n",
              "<style scoped>\n",
              "    .dataframe tbody tr th:only-of-type {\n",
              "        vertical-align: middle;\n",
              "    }\n",
              "\n",
              "    .dataframe tbody tr th {\n",
              "        vertical-align: top;\n",
              "    }\n",
              "\n",
              "    .dataframe thead th {\n",
              "        text-align: right;\n",
              "    }\n",
              "</style>\n",
              "<table border=\"1\" class=\"dataframe\">\n",
              "  <thead>\n",
              "    <tr style=\"text-align: right;\">\n",
              "      <th></th>\n",
              "      <th>senpal lenght</th>\n",
              "      <th>senpal width</th>\n",
              "      <th>pental length</th>\n",
              "      <th>pental width</th>\n",
              "      <th>type</th>\n",
              "    </tr>\n",
              "  </thead>\n",
              "  <tbody>\n",
              "    <tr>\n",
              "      <th>0</th>\n",
              "      <td>5.1</td>\n",
              "      <td>3.5</td>\n",
              "      <td>1.4</td>\n",
              "      <td>0.2</td>\n",
              "      <td>Iris-setosa</td>\n",
              "    </tr>\n",
              "    <tr>\n",
              "      <th>1</th>\n",
              "      <td>4.9</td>\n",
              "      <td>3.0</td>\n",
              "      <td>1.4</td>\n",
              "      <td>0.2</td>\n",
              "      <td>Iris-setosa</td>\n",
              "    </tr>\n",
              "    <tr>\n",
              "      <th>2</th>\n",
              "      <td>4.7</td>\n",
              "      <td>3.2</td>\n",
              "      <td>1.3</td>\n",
              "      <td>0.2</td>\n",
              "      <td>Iris-setosa</td>\n",
              "    </tr>\n",
              "    <tr>\n",
              "      <th>3</th>\n",
              "      <td>4.6</td>\n",
              "      <td>3.1</td>\n",
              "      <td>1.5</td>\n",
              "      <td>0.2</td>\n",
              "      <td>Iris-setosa</td>\n",
              "    </tr>\n",
              "    <tr>\n",
              "      <th>4</th>\n",
              "      <td>5.0</td>\n",
              "      <td>3.6</td>\n",
              "      <td>1.4</td>\n",
              "      <td>0.2</td>\n",
              "      <td>Iris-setosa</td>\n",
              "    </tr>\n",
              "  </tbody>\n",
              "</table>\n",
              "</div>\n",
              "      <button class=\"colab-df-convert\" onclick=\"convertToInteractive('df-c8775782-f9ce-4c48-93ad-94917804637a')\"\n",
              "              title=\"Convert this dataframe to an interactive table.\"\n",
              "              style=\"display:none;\">\n",
              "        \n",
              "  <svg xmlns=\"http://www.w3.org/2000/svg\" height=\"24px\"viewBox=\"0 0 24 24\"\n",
              "       width=\"24px\">\n",
              "    <path d=\"M0 0h24v24H0V0z\" fill=\"none\"/>\n",
              "    <path d=\"M18.56 5.44l.94 2.06.94-2.06 2.06-.94-2.06-.94-.94-2.06-.94 2.06-2.06.94zm-11 1L8.5 8.5l.94-2.06 2.06-.94-2.06-.94L8.5 2.5l-.94 2.06-2.06.94zm10 10l.94 2.06.94-2.06 2.06-.94-2.06-.94-.94-2.06-.94 2.06-2.06.94z\"/><path d=\"M17.41 7.96l-1.37-1.37c-.4-.4-.92-.59-1.43-.59-.52 0-1.04.2-1.43.59L10.3 9.45l-7.72 7.72c-.78.78-.78 2.05 0 2.83L4 21.41c.39.39.9.59 1.41.59.51 0 1.02-.2 1.41-.59l7.78-7.78 2.81-2.81c.8-.78.8-2.07 0-2.86zM5.41 20L4 18.59l7.72-7.72 1.47 1.35L5.41 20z\"/>\n",
              "  </svg>\n",
              "      </button>\n",
              "      \n",
              "  <style>\n",
              "    .colab-df-container {\n",
              "      display:flex;\n",
              "      flex-wrap:wrap;\n",
              "      gap: 12px;\n",
              "    }\n",
              "\n",
              "    .colab-df-convert {\n",
              "      background-color: #E8F0FE;\n",
              "      border: none;\n",
              "      border-radius: 50%;\n",
              "      cursor: pointer;\n",
              "      display: none;\n",
              "      fill: #1967D2;\n",
              "      height: 32px;\n",
              "      padding: 0 0 0 0;\n",
              "      width: 32px;\n",
              "    }\n",
              "\n",
              "    .colab-df-convert:hover {\n",
              "      background-color: #E2EBFA;\n",
              "      box-shadow: 0px 1px 2px rgba(60, 64, 67, 0.3), 0px 1px 3px 1px rgba(60, 64, 67, 0.15);\n",
              "      fill: #174EA6;\n",
              "    }\n",
              "\n",
              "    [theme=dark] .colab-df-convert {\n",
              "      background-color: #3B4455;\n",
              "      fill: #D2E3FC;\n",
              "    }\n",
              "\n",
              "    [theme=dark] .colab-df-convert:hover {\n",
              "      background-color: #434B5C;\n",
              "      box-shadow: 0px 1px 3px 1px rgba(0, 0, 0, 0.15);\n",
              "      filter: drop-shadow(0px 1px 2px rgba(0, 0, 0, 0.3));\n",
              "      fill: #FFFFFF;\n",
              "    }\n",
              "  </style>\n",
              "\n",
              "      <script>\n",
              "        const buttonEl =\n",
              "          document.querySelector('#df-c8775782-f9ce-4c48-93ad-94917804637a button.colab-df-convert');\n",
              "        buttonEl.style.display =\n",
              "          google.colab.kernel.accessAllowed ? 'block' : 'none';\n",
              "\n",
              "        async function convertToInteractive(key) {\n",
              "          const element = document.querySelector('#df-c8775782-f9ce-4c48-93ad-94917804637a');\n",
              "          const dataTable =\n",
              "            await google.colab.kernel.invokeFunction('convertToInteractive',\n",
              "                                                     [key], {});\n",
              "          if (!dataTable) return;\n",
              "\n",
              "          const docLinkHtml = 'Like what you see? Visit the ' +\n",
              "            '<a target=\"_blank\" href=https://colab.research.google.com/notebooks/data_table.ipynb>data table notebook</a>'\n",
              "            + ' to learn more about interactive tables.';\n",
              "          element.innerHTML = '';\n",
              "          dataTable['output_type'] = 'display_data';\n",
              "          await google.colab.output.renderOutput(dataTable, element);\n",
              "          const docLink = document.createElement('div');\n",
              "          docLink.innerHTML = docLinkHtml;\n",
              "          element.appendChild(docLink);\n",
              "        }\n",
              "      </script>\n",
              "    </div>\n",
              "  </div>\n",
              "  "
            ]
          },
          "metadata": {},
          "execution_count": 2
        }
      ]
    },
    {
      "cell_type": "code",
      "source": [
        "data = data.sample(frac = True)\n",
        "data"
      ],
      "metadata": {
        "colab": {
          "base_uri": "https://localhost:8080/",
          "height": 424
        },
        "id": "IYRwmj901NRp",
        "outputId": "4285eae9-85b0-4997-f595-0f61017f7087"
      },
      "execution_count": 3,
      "outputs": [
        {
          "output_type": "execute_result",
          "data": {
            "text/plain": [
              "     senpal lenght  senpal width  pental length  pental width             type\n",
              "44             5.1           3.8            1.9           0.4      Iris-setosa\n",
              "122            7.7           2.8            6.7           2.0   Iris-virginica\n",
              "94             5.6           2.7            4.2           1.3  Iris-versicolor\n",
              "52             6.9           3.1            4.9           1.5  Iris-versicolor\n",
              "128            6.4           2.8            5.6           2.1   Iris-virginica\n",
              "..             ...           ...            ...           ...              ...\n",
              "86             6.7           3.1            4.7           1.5  Iris-versicolor\n",
              "138            6.0           3.0            4.8           1.8   Iris-virginica\n",
              "12             4.8           3.0            1.4           0.1      Iris-setosa\n",
              "106            4.9           2.5            4.5           1.7   Iris-virginica\n",
              "78             6.0           2.9            4.5           1.5  Iris-versicolor\n",
              "\n",
              "[150 rows x 5 columns]"
            ],
            "text/html": [
              "\n",
              "  <div id=\"df-9ba42bcd-2eba-40b9-9d65-0539fc442fde\">\n",
              "    <div class=\"colab-df-container\">\n",
              "      <div>\n",
              "<style scoped>\n",
              "    .dataframe tbody tr th:only-of-type {\n",
              "        vertical-align: middle;\n",
              "    }\n",
              "\n",
              "    .dataframe tbody tr th {\n",
              "        vertical-align: top;\n",
              "    }\n",
              "\n",
              "    .dataframe thead th {\n",
              "        text-align: right;\n",
              "    }\n",
              "</style>\n",
              "<table border=\"1\" class=\"dataframe\">\n",
              "  <thead>\n",
              "    <tr style=\"text-align: right;\">\n",
              "      <th></th>\n",
              "      <th>senpal lenght</th>\n",
              "      <th>senpal width</th>\n",
              "      <th>pental length</th>\n",
              "      <th>pental width</th>\n",
              "      <th>type</th>\n",
              "    </tr>\n",
              "  </thead>\n",
              "  <tbody>\n",
              "    <tr>\n",
              "      <th>44</th>\n",
              "      <td>5.1</td>\n",
              "      <td>3.8</td>\n",
              "      <td>1.9</td>\n",
              "      <td>0.4</td>\n",
              "      <td>Iris-setosa</td>\n",
              "    </tr>\n",
              "    <tr>\n",
              "      <th>122</th>\n",
              "      <td>7.7</td>\n",
              "      <td>2.8</td>\n",
              "      <td>6.7</td>\n",
              "      <td>2.0</td>\n",
              "      <td>Iris-virginica</td>\n",
              "    </tr>\n",
              "    <tr>\n",
              "      <th>94</th>\n",
              "      <td>5.6</td>\n",
              "      <td>2.7</td>\n",
              "      <td>4.2</td>\n",
              "      <td>1.3</td>\n",
              "      <td>Iris-versicolor</td>\n",
              "    </tr>\n",
              "    <tr>\n",
              "      <th>52</th>\n",
              "      <td>6.9</td>\n",
              "      <td>3.1</td>\n",
              "      <td>4.9</td>\n",
              "      <td>1.5</td>\n",
              "      <td>Iris-versicolor</td>\n",
              "    </tr>\n",
              "    <tr>\n",
              "      <th>128</th>\n",
              "      <td>6.4</td>\n",
              "      <td>2.8</td>\n",
              "      <td>5.6</td>\n",
              "      <td>2.1</td>\n",
              "      <td>Iris-virginica</td>\n",
              "    </tr>\n",
              "    <tr>\n",
              "      <th>...</th>\n",
              "      <td>...</td>\n",
              "      <td>...</td>\n",
              "      <td>...</td>\n",
              "      <td>...</td>\n",
              "      <td>...</td>\n",
              "    </tr>\n",
              "    <tr>\n",
              "      <th>86</th>\n",
              "      <td>6.7</td>\n",
              "      <td>3.1</td>\n",
              "      <td>4.7</td>\n",
              "      <td>1.5</td>\n",
              "      <td>Iris-versicolor</td>\n",
              "    </tr>\n",
              "    <tr>\n",
              "      <th>138</th>\n",
              "      <td>6.0</td>\n",
              "      <td>3.0</td>\n",
              "      <td>4.8</td>\n",
              "      <td>1.8</td>\n",
              "      <td>Iris-virginica</td>\n",
              "    </tr>\n",
              "    <tr>\n",
              "      <th>12</th>\n",
              "      <td>4.8</td>\n",
              "      <td>3.0</td>\n",
              "      <td>1.4</td>\n",
              "      <td>0.1</td>\n",
              "      <td>Iris-setosa</td>\n",
              "    </tr>\n",
              "    <tr>\n",
              "      <th>106</th>\n",
              "      <td>4.9</td>\n",
              "      <td>2.5</td>\n",
              "      <td>4.5</td>\n",
              "      <td>1.7</td>\n",
              "      <td>Iris-virginica</td>\n",
              "    </tr>\n",
              "    <tr>\n",
              "      <th>78</th>\n",
              "      <td>6.0</td>\n",
              "      <td>2.9</td>\n",
              "      <td>4.5</td>\n",
              "      <td>1.5</td>\n",
              "      <td>Iris-versicolor</td>\n",
              "    </tr>\n",
              "  </tbody>\n",
              "</table>\n",
              "<p>150 rows × 5 columns</p>\n",
              "</div>\n",
              "      <button class=\"colab-df-convert\" onclick=\"convertToInteractive('df-9ba42bcd-2eba-40b9-9d65-0539fc442fde')\"\n",
              "              title=\"Convert this dataframe to an interactive table.\"\n",
              "              style=\"display:none;\">\n",
              "        \n",
              "  <svg xmlns=\"http://www.w3.org/2000/svg\" height=\"24px\"viewBox=\"0 0 24 24\"\n",
              "       width=\"24px\">\n",
              "    <path d=\"M0 0h24v24H0V0z\" fill=\"none\"/>\n",
              "    <path d=\"M18.56 5.44l.94 2.06.94-2.06 2.06-.94-2.06-.94-.94-2.06-.94 2.06-2.06.94zm-11 1L8.5 8.5l.94-2.06 2.06-.94-2.06-.94L8.5 2.5l-.94 2.06-2.06.94zm10 10l.94 2.06.94-2.06 2.06-.94-2.06-.94-.94-2.06-.94 2.06-2.06.94z\"/><path d=\"M17.41 7.96l-1.37-1.37c-.4-.4-.92-.59-1.43-.59-.52 0-1.04.2-1.43.59L10.3 9.45l-7.72 7.72c-.78.78-.78 2.05 0 2.83L4 21.41c.39.39.9.59 1.41.59.51 0 1.02-.2 1.41-.59l7.78-7.78 2.81-2.81c.8-.78.8-2.07 0-2.86zM5.41 20L4 18.59l7.72-7.72 1.47 1.35L5.41 20z\"/>\n",
              "  </svg>\n",
              "      </button>\n",
              "      \n",
              "  <style>\n",
              "    .colab-df-container {\n",
              "      display:flex;\n",
              "      flex-wrap:wrap;\n",
              "      gap: 12px;\n",
              "    }\n",
              "\n",
              "    .colab-df-convert {\n",
              "      background-color: #E8F0FE;\n",
              "      border: none;\n",
              "      border-radius: 50%;\n",
              "      cursor: pointer;\n",
              "      display: none;\n",
              "      fill: #1967D2;\n",
              "      height: 32px;\n",
              "      padding: 0 0 0 0;\n",
              "      width: 32px;\n",
              "    }\n",
              "\n",
              "    .colab-df-convert:hover {\n",
              "      background-color: #E2EBFA;\n",
              "      box-shadow: 0px 1px 2px rgba(60, 64, 67, 0.3), 0px 1px 3px 1px rgba(60, 64, 67, 0.15);\n",
              "      fill: #174EA6;\n",
              "    }\n",
              "\n",
              "    [theme=dark] .colab-df-convert {\n",
              "      background-color: #3B4455;\n",
              "      fill: #D2E3FC;\n",
              "    }\n",
              "\n",
              "    [theme=dark] .colab-df-convert:hover {\n",
              "      background-color: #434B5C;\n",
              "      box-shadow: 0px 1px 3px 1px rgba(0, 0, 0, 0.15);\n",
              "      filter: drop-shadow(0px 1px 2px rgba(0, 0, 0, 0.3));\n",
              "      fill: #FFFFFF;\n",
              "    }\n",
              "  </style>\n",
              "\n",
              "      <script>\n",
              "        const buttonEl =\n",
              "          document.querySelector('#df-9ba42bcd-2eba-40b9-9d65-0539fc442fde button.colab-df-convert');\n",
              "        buttonEl.style.display =\n",
              "          google.colab.kernel.accessAllowed ? 'block' : 'none';\n",
              "\n",
              "        async function convertToInteractive(key) {\n",
              "          const element = document.querySelector('#df-9ba42bcd-2eba-40b9-9d65-0539fc442fde');\n",
              "          const dataTable =\n",
              "            await google.colab.kernel.invokeFunction('convertToInteractive',\n",
              "                                                     [key], {});\n",
              "          if (!dataTable) return;\n",
              "\n",
              "          const docLinkHtml = 'Like what you see? Visit the ' +\n",
              "            '<a target=\"_blank\" href=https://colab.research.google.com/notebooks/data_table.ipynb>data table notebook</a>'\n",
              "            + ' to learn more about interactive tables.';\n",
              "          element.innerHTML = '';\n",
              "          dataTable['output_type'] = 'display_data';\n",
              "          await google.colab.output.renderOutput(dataTable, element);\n",
              "          const docLink = document.createElement('div');\n",
              "          docLink.innerHTML = docLinkHtml;\n",
              "          element.appendChild(docLink);\n",
              "        }\n",
              "      </script>\n",
              "    </div>\n",
              "  </div>\n",
              "  "
            ]
          },
          "metadata": {},
          "execution_count": 3
        }
      ]
    },
    {
      "cell_type": "code",
      "source": [
        "X = data.drop(columns = \"type\").to_numpy()\n",
        "Y = data[[\"type\"]].to_numpy()\n",
        "print(X[0].shape)\n",
        "print(Y[0].shape)"
      ],
      "metadata": {
        "colab": {
          "base_uri": "https://localhost:8080/"
        },
        "id": "wvq8CpZ51SpH",
        "outputId": "ac614370-5156-47f5-c620-562ef78d76ee"
      },
      "execution_count": 4,
      "outputs": [
        {
          "output_type": "stream",
          "name": "stdout",
          "text": [
            "(4,)\n",
            "(1,)\n"
          ]
        }
      ]
    },
    {
      "cell_type": "code",
      "source": [
        "def TypetoVec(n,maxlength = 3):\n",
        "    vec = np.zeros(maxlength)\n",
        "    if n == \"Iris-setosa\":\n",
        "        vec[0] = 1\n",
        "    elif n == \"Iris-versicolor\":\n",
        "        vec[1] = 1\n",
        "    else:\n",
        "        vec[2] = 1\n",
        "    return vec.reshape(1,maxlength)"
      ],
      "metadata": {
        "id": "Zf1s2jJL1gcU"
      },
      "execution_count": 5,
      "outputs": []
    },
    {
      "cell_type": "code",
      "source": [
        "trainX = []\n",
        "trainY = []\n",
        "trainPair = list(zip(X,Y))\n",
        "random.shuffle(trainPair)\n",
        "for i in range(len(X)):\n",
        "    x,y = trainPair[i]\n",
        "    #x = x.flatten()\n",
        "    x = x.reshape(1,len(x))\n",
        "    trainX.append(x)\n",
        "    y = TypetoVec(y)\n",
        "    trainY.append(y)\n",
        "\n",
        "print(trainX[0].shape)\n",
        "print(trainY[0].shape)"
      ],
      "metadata": {
        "colab": {
          "base_uri": "https://localhost:8080/"
        },
        "id": "KqjrOXQa2U7O",
        "outputId": "72d9705c-da55-4aa0-f464-f0b87af9388e"
      },
      "execution_count": 6,
      "outputs": [
        {
          "output_type": "stream",
          "name": "stdout",
          "text": [
            "(1, 4)\n",
            "(1, 3)\n"
          ]
        }
      ]
    },
    {
      "cell_type": "code",
      "source": [
        "class NeuralNetwork():\n",
        "    def __init__(self,Xs,Ys,inputS,hiddenS1,hiddenS2,outputS):\n",
        "        self.Xs = Xs\n",
        "        self.Ys = Ys\n",
        "        self.inputS = inputS\n",
        "        self.hiddenS1 = hiddenS1\n",
        "        self.hiddenS2 = hiddenS2\n",
        "        self.outputS = outputS\n",
        "\n",
        "    def generateWeight(self,inputt,outputt):\n",
        "        return np.random.rand(outputt,inputt + 1).transpose() - 0.5\n",
        "\n",
        "    def sigmoid(self,z):\n",
        "        return 1/(1+np.exp(-z))\n",
        "\n",
        "    def addBias(self,x):\n",
        "        curLen = len(x.flatten())\n",
        "        return np.concatenate(([1],x.flatten())).reshape(1,curLen+1)\n",
        "\n",
        "    def forward(self,x,w1,w2,w3):\n",
        "        a1 = x #(1,784)\n",
        "        a1_bias = self.addBias(a1) #(1,785)\n",
        "        z2 = np.matmul(a1_bias,w1) #(1,785)x(785,100)\n",
        "        a2 = self.sigmoid(z2) #(1,100)\n",
        "        a2_bias = self.addBias(a2) #(1,101)\n",
        "        z3 = np.matmul(a2_bias,w2) #(1,101)x(101,100)\n",
        "        a3 = self.sigmoid(z3) # (1,100)\n",
        "        a3_bias = self.addBias(a3) #(1,101)\n",
        "        z4 = np.matmul(a3_bias,w3) #(1,101)x(101,10)\n",
        "        a4 = self.sigmoid(z4) #(1,10)\n",
        "        return a1_bias,a2,a2_bias,a3,a3_bias,a4\n",
        "\n",
        "    def backward(self,x,y,w1,w2,w3):\n",
        "        a1_bias,a2,a2_bias,a3,a3_bias,a4 = self.forward(x,w1,w2,w3)\n",
        "\n",
        "        d4 = a4 - y #(1,10)\n",
        "        # (1,10)x(10,101) * (1,101)\n",
        "        d3 = (np.matmul(d4,w3.transpose())) * (a3_bias*(1-a3_bias))\n",
        "        # (1,100)x(100,101) * (1,101)\n",
        "        d2 = (np.matmul(d3[:,1:],w2.transpose())) * (a2_bias*(1-a2_bias))\n",
        "\n",
        "        delta1 = np.matmul(a1_bias.transpose(), d2) # (785,1)x(1,101)->(785,101)\n",
        "        delta2 = np.matmul(a2_bias.transpose(), d3) # (101,1)x(1,101)->(101,101)\n",
        "        delta3 = np.matmul(a3_bias.transpose(), d4) # (101,1)x(1,10)->(101,10)\n",
        "\n",
        "        return delta1,delta2,delta3\n",
        "\n",
        "    def mse(self,pred,y):\n",
        "        return np.mean(np.power(pred - y,2))\n",
        "\n",
        "    def predict(self,xtest,w1,w2,w3):\n",
        "        a1_bias,a2,a2_bias,a3,a3_bias,a4 = self.forward(xtest,w1,w2,w3)\n",
        "        # a4[a4 > 0.5] = 1\n",
        "        # a4[a4 <= 0.5] = 0\n",
        "        return a4\n",
        "\n",
        "    def train(self,epochs,w1,w2,w3,lr):\n",
        "        acc = []\n",
        "        losses = []\n",
        "        for epoch in range(epochs):\n",
        "            capDelta1 = 0\n",
        "            capDelta2 = 0\n",
        "            capDelta3 = 0\n",
        "            correctCase = 0\n",
        "            l = []\n",
        "            for i in range(len(self.Xs)):\n",
        "                x = self.Xs[i]\n",
        "                y = self.Ys[i]\n",
        "                a1_bias,a2,a2_bias,a3,a3_bias,pred = self.forward(x,w1,w2,w3)\n",
        "                if pred.argmax() == y.argmax():\n",
        "                    correctCase += 1\n",
        "                l.append(self.mse(pred,y))\n",
        "                delta1,delta2,delta3 = self.backward(x,y,w1,w2,w3)\n",
        "                capDelta1 += delta1\n",
        "                capDelta2 += delta2\n",
        "                capDelta3 += delta3\n",
        "            # (785,100)     (785,100)\n",
        "            w1 = w1 - lr*capDelta1[:,1:]\n",
        "            # (101,100)     (101,100)\n",
        "            w2 = w2 - lr*capDelta2[:,1:]\n",
        "            # (101,10)      (101,10)\n",
        "            w3 = w3 - lr*capDelta3\n",
        "\n",
        "            curAcc = correctCase*100/len(self.Xs)\n",
        "            acc.append(curAcc)\n",
        "            meanLoss = np.array(l).mean()\n",
        "            losses.append(meanLoss)\n",
        "            freq = 5\n",
        "            if (epoch + 1) % freq == 0:\n",
        "                avgAcc = np.array(acc[-5:]).mean()\n",
        "                loss = np.array(losses[-5:]).mean()\n",
        "                print(f\"Epoch {epoch + 1}: AVG ACC during {freq} epochs: {avgAcc}\")\n",
        "                print(f\"Epoch {epoch + 1}: Loss: {loss}\")\n",
        "        return acc,losses,w1,w2,w3\n",
        "\n",
        "        "
      ],
      "metadata": {
        "id": "dp8O6EWE4Jwi"
      },
      "execution_count": 45,
      "outputs": []
    },
    {
      "cell_type": "code",
      "source": [
        "inputS = 4\n",
        "hiddenS1 = 25\n",
        "hiddenS2 = 25\n",
        "outputS = 3"
      ],
      "metadata": {
        "id": "MIdPyJ0C47j_"
      },
      "execution_count": 8,
      "outputs": []
    },
    {
      "cell_type": "code",
      "source": [
        "neural = NeuralNetwork(trainX,trainY,inputS,hiddenS1,hiddenS2,outputS)\n",
        "w1 = neural.generateWeight(inputS,hiddenS1) # (100,785) -> (785,100)\n",
        "w2 = neural.generateWeight(hiddenS1,hiddenS2) # (100,101) -> (101,100)\n",
        "w3 = neural.generateWeight(hiddenS2,outputS) # (10,101) -> (101,10)"
      ],
      "metadata": {
        "id": "40TefQ395Grg"
      },
      "execution_count": 46,
      "outputs": []
    },
    {
      "cell_type": "code",
      "source": [
        "lr = 0.001\n",
        "acc,losses,w1,w2,w3 = neural.train(50,w1,w2,w3,lr)"
      ],
      "metadata": {
        "colab": {
          "base_uri": "https://localhost:8080/"
        },
        "id": "1acpuOH25R2T",
        "outputId": "ef869af7-839d-4148-85a7-336ed8445e1a"
      },
      "execution_count": 57,
      "outputs": [
        {
          "output_type": "stream",
          "name": "stdout",
          "text": [
            "Epoch 5: AVG ACC during 5 epochs: 98.0\n",
            "Epoch 5: Loss: 0.04609607117824038\n",
            "Epoch 10: AVG ACC during 5 epochs: 98.0\n",
            "Epoch 10: Loss: 0.044990347398949256\n",
            "Epoch 15: AVG ACC during 5 epochs: 98.0\n",
            "Epoch 15: Loss: 0.043902872916630795\n",
            "Epoch 20: AVG ACC during 5 epochs: 98.0\n",
            "Epoch 20: Loss: 0.04283494249310482\n",
            "Epoch 25: AVG ACC during 5 epochs: 98.0\n",
            "Epoch 25: Loss: 0.041787737389228544\n",
            "Epoch 30: AVG ACC during 5 epochs: 98.0\n",
            "Epoch 30: Loss: 0.04076231924141388\n",
            "Epoch 35: AVG ACC during 5 epochs: 98.0\n",
            "Epoch 35: Loss: 0.03975962584563118\n",
            "Epoch 40: AVG ACC during 5 epochs: 98.0\n",
            "Epoch 40: Loss: 0.03878046880356035\n",
            "Epoch 45: AVG ACC during 5 epochs: 98.0\n",
            "Epoch 45: Loss: 0.037825532942500975\n",
            "Epoch 50: AVG ACC during 5 epochs: 98.0\n",
            "Epoch 50: Loss: 0.03689537738469152\n"
          ]
        }
      ]
    },
    {
      "cell_type": "code",
      "source": [
        "xtest = np.array([4.9,2.5,4.5,1.7])\n",
        "pred = neural.predict(xtest,w1,w2,w3)\n",
        "print(pred)"
      ],
      "metadata": {
        "colab": {
          "base_uri": "https://localhost:8080/"
        },
        "id": "Muohxb4M5dmw",
        "outputId": "1fbc8b7a-8370-4018-c04e-d453ec41b11e"
      },
      "execution_count": 34,
      "outputs": [
        {
          "output_type": "stream",
          "name": "stdout",
          "text": [
            "[[0.00144857 0.91547847 0.04744419]]\n"
          ]
        }
      ]
    },
    {
      "cell_type": "code",
      "source": [
        "xtestt = np.array([6.8,2.8,4.8,1.4]) # type 2\n",
        "pred = neural.predict(xtestt,w1,w2,w3)\n",
        "print(pred)"
      ],
      "metadata": {
        "colab": {
          "base_uri": "https://localhost:8080/"
        },
        "id": "d9WO3eBr7Pg1",
        "outputId": "ba7817d9-7ebe-40ad-d707-713968f4f7c1"
      },
      "execution_count": 58,
      "outputs": [
        {
          "output_type": "stream",
          "name": "stdout",
          "text": [
            "[[0.01353374 0.66771449 0.1570226 ]]\n"
          ]
        }
      ]
    },
    {
      "cell_type": "code",
      "source": [
        "xtestt1 = np.array([5.1,3.5,1.5,0.3]) # type 1\n",
        "pred = neural.predict(xtestt1,w1,w2,w3)\n",
        "print(pred)"
      ],
      "metadata": {
        "id": "CAazJ2Lc-6vo",
        "colab": {
          "base_uri": "https://localhost:8080/"
        },
        "outputId": "ffa64506-820b-40a7-c8fe-608f0dce9095"
      },
      "execution_count": 59,
      "outputs": [
        {
          "output_type": "stream",
          "name": "stdout",
          "text": [
            "[[9.75982420e-01 9.43051024e-02 9.18481967e-05]]\n"
          ]
        }
      ]
    },
    {
      "cell_type": "code",
      "source": [
        "xtestt2 = np.array([7.8,2.8,5.8,2.4]) # type 3\n",
        "pred = neural.predict(xtestt2,w1,w2,w3)\n",
        "print(pred)"
      ],
      "metadata": {
        "colab": {
          "base_uri": "https://localhost:8080/"
        },
        "id": "4LUrFH2ZttFl",
        "outputId": "7befa5aa-4308-4db1-951a-cde65c8aebc9"
      },
      "execution_count": 60,
      "outputs": [
        {
          "output_type": "stream",
          "name": "stdout",
          "text": [
            "[[6.54793426e-04 3.06589366e-01 8.61487099e-01]]\n"
          ]
        }
      ]
    }
  ]
}